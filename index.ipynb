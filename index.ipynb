{
 "cells": [
  {
   "cell_type": "markdown",
   "metadata": {},
   "source": [
    "# Text Exploration\n",
    "![](https://media.giphy.com/media/3o6ozjrPeWQifzyA6Y/giphy.gif)"
   ]
  },
  {
   "cell_type": "markdown",
   "metadata": {},
   "source": [
    "This morning we will be doing some EDA with the nltk library."
   ]
  },
  {
   "cell_type": "code",
   "execution_count": null,
   "metadata": {},
   "outputs": [],
   "source": [
    "# Base Libraries\n",
    "import pandas as pd\n",
    "import numpy as np\n",
    "import string\n",
    "\n",
    "# NLP\n",
    "import nltk\n",
    "from nltk.stem import PorterStemmer\n",
    "from nltk import FreqDist\n",
    "from nltk.corpus import stopwords\n",
    "from nltk.tokenize import word_tokenize\n",
    "from nltk.stem import WordNetLemmatizer \n",
    "from nltk.collocations import (BigramCollocationFinder, BigramAssocMeasures, \n",
    "                               TrigramCollocationFinder, TrigramAssocMeasures)\n",
    "\n",
    "# Visualization\n",
    "import matplotlib.pyplot as plt"
   ]
  },
  {
   "cell_type": "code",
   "execution_count": 1,
   "metadata": {
    "ExecuteTime": {
     "end_time": "2020-07-15T02:10:30.350916Z",
     "start_time": "2020-07-15T02:10:29.351014Z"
    }
   },
   "outputs": [],
   "source": [
    "# __SOLUTION__\n",
    "# Base Libraries\n",
    "import pandas as pd\n",
    "import numpy as np\n",
    "import string\n",
    "\n",
    "# NLP\n",
    "import nltk\n",
    "from nltk.stem import PorterStemmer\n",
    "from nltk import FreqDist\n",
    "from nltk.corpus import stopwords\n",
    "from nltk.tokenize import word_tokenize\n",
    "from nltk.stem import WordNetLemmatizer \n",
    "from nltk.collocations import (BigramCollocationFinder, BigramAssocMeasures, \n",
    "                               TrigramCollocationFinder, TrigramAssocMeasures)\n",
    "\n",
    "# Visualization\n",
    "import matplotlib.pyplot as plt"
   ]
  },
  {
   "cell_type": "markdown",
   "metadata": {},
   "source": [
    "In the cell below, we import the policy proposal by 2020 Democratic Presidential Candidates Bernie Sanders and Elizabeth Warren."
   ]
  },
  {
   "cell_type": "code",
   "execution_count": null,
   "metadata": {},
   "outputs": [],
   "source": [
    "df = pd.read_csv('data/2020_policies_feb_24.csv')\n",
    "df.head()"
   ]
  },
  {
   "cell_type": "code",
   "execution_count": 2,
   "metadata": {
    "ExecuteTime": {
     "end_time": "2020-07-15T02:10:32.172696Z",
     "start_time": "2020-07-15T02:10:32.103250Z"
    }
   },
   "outputs": [
    {
     "data": {
      "text/html": [
       "<div>\n",
       "<style scoped>\n",
       "    .dataframe tbody tr th:only-of-type {\n",
       "        vertical-align: middle;\n",
       "    }\n",
       "\n",
       "    .dataframe tbody tr th {\n",
       "        vertical-align: top;\n",
       "    }\n",
       "\n",
       "    .dataframe thead th {\n",
       "        text-align: right;\n",
       "    }\n",
       "</style>\n",
       "<table border=\"1\" class=\"dataframe\">\n",
       "  <thead>\n",
       "    <tr style=\"text-align: right;\">\n",
       "      <th></th>\n",
       "      <th>Unnamed: 0</th>\n",
       "      <th>name</th>\n",
       "      <th>policy</th>\n",
       "      <th>candidate</th>\n",
       "    </tr>\n",
       "  </thead>\n",
       "  <tbody>\n",
       "    <tr>\n",
       "      <th>0</th>\n",
       "      <td>0</td>\n",
       "      <td>100% Clean Energy for America</td>\n",
       "      <td>As published on Medium on September 3rd, 2019:...</td>\n",
       "      <td>warren</td>\n",
       "    </tr>\n",
       "    <tr>\n",
       "      <th>1</th>\n",
       "      <td>1</td>\n",
       "      <td>A Comprehensive Agenda to Boost America’s Smal...</td>\n",
       "      <td>Small businesses are the heart of our economy....</td>\n",
       "      <td>warren</td>\n",
       "    </tr>\n",
       "    <tr>\n",
       "      <th>2</th>\n",
       "      <td>2</td>\n",
       "      <td>A Fair and Welcoming Immigration System</td>\n",
       "      <td>As published on Medium on July 11th, 2019:\\nIm...</td>\n",
       "      <td>warren</td>\n",
       "    </tr>\n",
       "    <tr>\n",
       "      <th>3</th>\n",
       "      <td>3</td>\n",
       "      <td>A Fair Workweek for America’s Part-Time Workers</td>\n",
       "      <td>Working families all across the country are ge...</td>\n",
       "      <td>warren</td>\n",
       "    </tr>\n",
       "    <tr>\n",
       "      <th>4</th>\n",
       "      <td>4</td>\n",
       "      <td>A Great Public School Education for Every Student</td>\n",
       "      <td>I attended public school growing up in Oklahom...</td>\n",
       "      <td>warren</td>\n",
       "    </tr>\n",
       "  </tbody>\n",
       "</table>\n",
       "</div>"
      ],
      "text/plain": [
       "   Unnamed: 0                                               name  \\\n",
       "0           0                      100% Clean Energy for America   \n",
       "1           1  A Comprehensive Agenda to Boost America’s Smal...   \n",
       "2           2            A Fair and Welcoming Immigration System   \n",
       "3           3    A Fair Workweek for America’s Part-Time Workers   \n",
       "4           4  A Great Public School Education for Every Student   \n",
       "\n",
       "                                              policy candidate  \n",
       "0  As published on Medium on September 3rd, 2019:...    warren  \n",
       "1  Small businesses are the heart of our economy....    warren  \n",
       "2  As published on Medium on July 11th, 2019:\\nIm...    warren  \n",
       "3  Working families all across the country are ge...    warren  \n",
       "4  I attended public school growing up in Oklahom...    warren  "
      ]
     },
     "execution_count": 2,
     "metadata": {},
     "output_type": "execute_result"
    }
   ],
   "source": [
    "# __SOLUTION__\n",
    "df = pd.read_csv('data/2020_policies_feb_24.csv')\n",
    "df.head()"
   ]
  },
  {
   "cell_type": "markdown",
   "metadata": {
    "ExecuteTime": {
     "end_time": "2020-07-14T21:21:46.525652Z",
     "start_time": "2020-07-14T21:21:46.522008Z"
    }
   },
   "source": [
    "**We need to do some processing to make this text usable.** \n",
    "\n",
    "In the cell below, define a function called `prepocessing` that receives a single parameter called `text`.\n",
    "\n",
    "<u><b>This function should:</b></u>\n",
    "1. Lower the text so all letters are the same case\n",
    "2. Use nltk's `word_tokenize` function to convert the string into a list of tokens.\n",
    "3. Remove stop words from the data using nltk's english stopwords corpus.\n",
    "4. Use nltk's `PortStemmer` to stem the text data\n",
    "5. Remove punctuation from the data \n",
    "    - *(You can use the [string](https://www.journaldev.com/23788/python-string-module) library for this)*\n",
    "6. Convert the list of tokens into a string\n",
    "7. Remove opening and trailing spaces, and replace all double spaces with a single space.\n",
    "8. Return the results."
   ]
  },
  {
   "cell_type": "code",
   "execution_count": null,
   "metadata": {},
   "outputs": [],
   "source": [
    "stemmer = PorterStemmer()\n",
    "stops = stopwords.words('english')\n",
    "\n",
    "def preprocessing(text):\n",
    "    pass"
   ]
  },
  {
   "cell_type": "code",
   "execution_count": 3,
   "metadata": {
    "ExecuteTime": {
     "end_time": "2020-07-15T02:10:36.901607Z",
     "start_time": "2020-07-15T02:10:36.894477Z"
    }
   },
   "outputs": [],
   "source": [
    "# __SOLUTION__\n",
    "stemmer = PorterStemmer()\n",
    "stops = stopwords.words('english')\n",
    "\n",
    "def preprocessing(text):\n",
    "    data = text.lower()\n",
    "    data = word_tokenize(data)\n",
    "    data = [word for word in data if word not in stops]\n",
    "    data = [stemmer.stem(token) for token in data]\n",
    "    data = ' '.join(data)\n",
    "    punctuation = string.punctuation + '—' + '’'\n",
    "    data = data.translate(str.maketrans('', '', punctuation))\n",
    "    data = data.replace('  ', ' ')\n",
    "    return data.strip()"
   ]
  },
  {
   "cell_type": "markdown",
   "metadata": {},
   "source": [
    "**For this warmup, tests are not provided.** \n",
    "\n",
    "Instead, examine the output for the following cell. \n",
    "- Was your code successful? \n",
    "- Are there words in the output that should be added to our list of stopwords?\n",
    "- Should we remove numbers?"
   ]
  },
  {
   "cell_type": "code",
   "execution_count": null,
   "metadata": {},
   "outputs": [],
   "source": [
    "preprocessing(df.policy[0])"
   ]
  },
  {
   "cell_type": "code",
   "execution_count": 4,
   "metadata": {
    "ExecuteTime": {
     "end_time": "2020-07-15T02:10:44.249405Z",
     "start_time": "2020-07-15T02:10:44.168185Z"
    }
   },
   "outputs": [
    {
     "data": {
      "text/plain": [
       "'publish medium septemb 3rd 2019 scienc clear world lead expert long known climat chang caus human be  acceler alreadi see effect record flood devast wildfir 100year storm happen everi year cost live caus hundr billion dollar damag disproportion impact vulner commun includ commun color children lowincom commun emerg without rapid widespread chang soon unabl prevent worst harm climat crisi leav one untouch also repres onceinagener opportun creat million good american job clean renew energi infrastructur manufactur unleash best american innov creativ rebuild union creat real progress justic worker directli confront racial econom inequ embed fossil fuel economi world must limit warm 15° c avoid catastroph outcom cut carbon pollut roughli half 2030 achiev netzero emiss 2050 world largest histor carbon pollut unit state special respons lead way  origin support green new deal challeng us go beyond launch tenyear mobil 2030 achiev netzero domest greenhous ga emiss fast possibl  also woven climat mitig resili throughout polici propos  meet climat goal onetim onesizefitsal approach  need big structur chang across rang industri sector sustain time idea begin must take bold action confront climat crisi import urgent anyth els next presid face wait add name agre need big structur chang across rang industri sector solv climat crisi email zip submit presidenti candid friend governor jay insle challeng american confront urgenc climat crisi bear upon us jay mere sound alarm make vagu promis provid bold thought detail idea get us need go rais standard address pollut invest futur american economi presidenti campaign may idea remain center agenda one import idea urgent need decarbon key sector economi today  embrac goal commit adopt build governor insle tenyear action plan achiev 100 clean energi america decarbon electr vehicl build  challeng everi candid presid governor insle note 100 clean energi america plan tackl key sector economi make immedi differ electr transport build relat commerci activ respons nearli 70 percent us carbon emiss technolog today start construct cleaner grid modern auto industri green commun green apollo plan invest 400 billion ten year clean energi r spur innov help us develop technolog need go final mile critic condit r invest result manufactur take place right america creat good middleclass job green manufactur plan invest 15 trillion ten year feder procur americanmad clean energi product fund transit feder state local govern plan public land make unpreced commit gener 10 overal electr need renew sourc offshor public land green marshal plan commit 100 billion support export americanmad clean energi product help countri cut emiss today  announc commit addit 1 trillion 10 year fulli paid revers trump tax cut wealthiest individu giant corpor match governor insle commit subsid econom transit clean renew electr zero emiss vehicl green product commerci residenti build told feder invest 3 trillion leverag addit trillion privat invest creat million job achiev 2028 100 zerocarbon pollut new commerci residenti build 2030 100 zero emiss new lightduti passeng vehicl mediumduti truck buse 2035 100 renew zeroemiss energi electr gener interim target 100 carbonneutr power 2030 goal may decad away work achiev must start congress act immedi reduc emiss begin transit clean renew power  also lot presid  take decis action first term use power clean air act author set high regulatori standard impos ambiti interim target along way noth less nation mobil requir defeat climat chang requir everi singl one us  time roll sleev get work time wast help campaign keep fight re count grassroot donor make campaign possibl ve save inform actblu express donat go immedi  15 28 50 100 250 partner worker ensur one left behind task us huge demand us requir retrofit nation build reengin electr grid adapt manufactur base increas product zero emiss vehicl also requir readjust econom approach ensur commun color other systemat exclud fossil fuel economi left behind transit clean energi also opportun  need million worker peopl know build thing manufactur skill experienc contractor plan execut larg construct engin project train joint labor manag apprenticeship ensur continu suppli skill avail worker succeed fight climat chang unless peopl skill get job done room full partner  ensur benefit uplift empow worker may hurt transit green economi includ coal worker other current employ fossil fuel industri mean provid financi secur includ earli retir benefit job train union protect benefit guarante wage benefit pariti affect worker moreov longer forc worker make imposs choic fossil fuel industri job superior wage benefit green economi job pay far less job creat union job accompani pay scale benefit long tension transit green economi creat good middl class union job warren administr thing look away frontlin commun endur air water pollut decad disproportion threaten acceler climat chang everyon right breath clean air drink clean water live healthi commun free pollut today commun color lowincom commun disproportion impact environment hazard impact even greater children afford perpetu structur inequ embed exist system move toward clean energi futur respons must priorit resourc peopl commun left behind fossil fuel economi hit worst climat chang pollut  ensur invest spur econom develop everi part countri coast  invest communitydevelop project peopl live work area best know need  creat truli participatori democrat process center led live front line climat chang promis green new deal lift frontlin commun empow worker tackl climat chang time  decarbon sector contribut pollut problem  work 100 clean electr electr consumpt contribut one third carbon pollut today good news renew fastest grow sourc electr gener renew energi continu drop cost mani part world alreadi cheaper fossil fuel even without subsidi state includ home state massachusett governor insle home state washington alreadi lead way adopt technic challeng around transmiss storag remain increas renew energi invest smart grid advanc distribut improv reliabl bring cost open new econom opportun achiev 100 clean electr also help us decarbon transport build put place project labor agreement protect ensur job creat union job accompani pay scale benefit presid  work rapidli achiev 100 clean renew zeroemiss energi electr gener  set high standard util nationwid administr requir util achiev 100 carbonneutr power 2030 strong interim target along way achiev allclean renew zeroemiss energi electr gener 2035 also establish regul retir coal power within decad ensur leav coal commun behind fund health care pension miner creat feder renew energi commiss  work congress overhaul feder energi regulatori commiss task regul us electr grid replac instead feder renew energi commiss revis commiss mission reduc greenhous ga pollut  slam shut revolv door industri ensur respons fossil fuel interest commun use strength feder invest polici acceler transit  requir feder agenc achiev 100 clean energi domest power purchas end first term commit public land plan  set goal provid 10 overal electr gener renew sourc offshor public land nearli ten time current gener provid feder subsidi speed clean energi adopt  expand exist feder energi financ program like depart energi loan guarante program rural util servic includ provid direct grant clean energi project  extend program provid grant lieu tax credit establish refund tax incent speed util deploy exist smart grid advanc transmiss technolog work util increas onbil invest energi effici solut includ subsid invest lowincom commun  implement commun workforc projectlabor agreement ensur job creat invest good union job prevail wage determin collect bargain expand interst region coordin maxim effici grid  provid incent expedit plan site longdist interst transmiss clean electr  priorit area signific queue cleanenergi gener capac await transmiss  provid dedic support four power market administr tennesse valley author appalachian region commiss help build publiclyown clean energi asset deploy clean power help commun transit fossil fuel  expand invest smart energi storag solut cybersecur grid 100 clean vehicl market electr vehicl expand rapidli around world rang increas cost electr car batteri drop precipit averag zeroemiss vehicl alreadi cheaper drive car run gasolin instead acceler innov sector trump administr busi attempt loosen automobil emiss standard even us auto industri protest meanwhil european union tighten standard china alreadi world largest produc electr vehicl make aggress inroad domin global market least 10 countri set aggress electr vehicl target elimin carbonemit car entir remain competit help save planet american automobil manufactur must keep warren administr set goal achiev zero emiss new lightduti passeng vehicl mediumduti truck buse 2030 achiev  set ambiti standard fuel emiss first year offic  set strict vehicl emiss standard becom progress tighter everi year reach requir 100 zeroemiss new light mediumduti vehicl 2030 time  establish clean fuel standard reduc greenhous ga emiss promot lowercarbon altern fuel modern automot manufactur base develop need infrastructur  provid feder invest grow domest zeroemiss vehicl manufactur reinforc assembl plant suppli base includ batteri manufactur  also invest electr vehicl charg infrastructur includ ensur everi feder interst highway rest stop host fastcharg station end first term offic ensur charg station widespread access tomorrow ga station today boost consum demand zero emiss vehicl  extend busi consum tax credit purchas zeroemiss vehicl  creat “ clean car clunker ” program base recoveri act tradein program extend financi incent encourag consum replac fuelineffici car zeroemiss vehicl made america union worker green manufactur plan commit 15 trillion ten year feder procur clean green americanmad product includ zeroemiss vehicl  use fund requir rapid electrif feder vehicl fleet requir new vehicl purchas zeroemiss end first term  work state local govern acceler electrif vehicl fleet well includ financ transit diesel zeroemiss transit school buse decarbon form transit stop car buse must address carbon pollut form transport includ maritim rail aviat expand improv public transit across countri addit transform vehicl sector administr invest research priorit decarbon longdist ship transport two challeng sector decarbon aviat pollut particular remain fastgrow presid  commit intern goal hold climat pollut civil aviat 2020 level reduc time 100 clean build build construct account onethird global energi use carbon emiss embodi carbon includ world continu urban emiss grow unit state spend 400 billion year provid electr heat home busi make signific progress decarbon build achiev clean electr gener reduc energi wast increas energi effici improv air qualiti health outcom creat good union construct job job outsourc sent oversea presid  commit take immedi action achiev zerocarbon pollut new commerci residenti build end second term 2028 make happen  adopt bold standard construct  creat nation zerocarbon build standard 2023  partner state local govern enforc new stronger build code administr provid incent local govern adopt aggress standard bring emiss  link energi pollut standard feder support new construct project build agenc grantmak requir feder hous tax credit green mortgag product offer feder hous financ agenc  direct feder agenc acceler proven applianc energi effici standard make americanmanufactur applianc cleaner competit save consum money use feder buy power drive chang  use power feder govern shift market acceler adopt rule elimin fossil fuel use new renov feder build move deadlin five year end first term 2025 use portion 15 trillion feder procur commit green manufactur plan purchas clean energi product use feder build construct materi heat storag technolog applianc  increas access feder financ retrofit new construct upgrad public build level govern encourag privat capit invest  creat incent privat invest energi effici electrif residenti commerci build includ tax credit direct spend regulatori tool  expand refund credit instal energi effici upgrad extend exist tax credit wind solar power  make easier institut capit invest portfolioscal green construct retrofit scale clean energi larg commerci residenti project incentiv retrofit exist build stock addit achiev zero emiss new build must address exist stock commerci build residenti hous green hous perk avail wealthi must made afford everyon  establish nation initi upgrad build energi effici offer tax credit gener inclus financ direct feder fund put american work reduc carbon output exist home busi includ subsid weather lowincom household  meet governor insle target refurbish 4 hous build everi year job done work togeth make smart invest clean energi futur grow economi improv health reduc structur inequ embed exist fossil fuel system task us monument urgent  confid america tool knowhow make happen presid take bold action confront climat crisi start day one futur planet depend time wast'"
      ]
     },
     "execution_count": 4,
     "metadata": {},
     "output_type": "execute_result"
    }
   ],
   "source": [
    "# __SOLUTION__\n",
    "preprocessing(df.policy[0])"
   ]
  },
  {
   "cell_type": "markdown",
   "metadata": {},
   "source": [
    "**Let's apply our preprocessing to every policy.**"
   ]
  },
  {
   "cell_type": "code",
   "execution_count": null,
   "metadata": {},
   "outputs": [],
   "source": [
    "df.policy = df.policy.apply(preprocessing)\n",
    "\n",
    "print(df.policy[:3])"
   ]
  },
  {
   "cell_type": "code",
   "execution_count": 5,
   "metadata": {
    "ExecuteTime": {
     "end_time": "2020-07-15T02:10:56.043738Z",
     "start_time": "2020-07-15T02:10:51.277272Z"
    }
   },
   "outputs": [
    {
     "name": "stdout",
     "output_type": "stream",
     "text": [
      "0    publish medium septemb 3rd 2019 scienc clear w...\n",
      "1    small busi heart economi even though american ...\n",
      "2    publish medium juli 11th 2019 immigr alway vit...\n",
      "Name: policy, dtype: object\n"
     ]
    }
   ],
   "source": [
    "#__SOLUTION__\n",
    "df.policy = df.policy.apply(preprocessing)\n",
    "\n",
    "print(df.policy[:3])"
   ]
  },
  {
   "cell_type": "markdown",
   "metadata": {},
   "source": [
    "Now, we can explore our text data.\n",
    "\n",
    "In the cell below define a function called `average_word_length` that receives a single parameter called `text`, and outputs the average word length.\n",
    "\n",
    "<u><b>This function should:</b></u>\n",
    "1. Split the text into a list of tokens\n",
    "2. Find the length of every word in the list\n",
    "3. Sum the word lengths and divide by the number of words in the list of tokens.\n",
    "4. Return the result."
   ]
  },
  {
   "cell_type": "code",
   "execution_count": null,
   "metadata": {},
   "outputs": [],
   "source": [
    "# Your code here\n",
    "def average_word_length(text):\n",
    "    pass"
   ]
  },
  {
   "cell_type": "code",
   "execution_count": 6,
   "metadata": {
    "ExecuteTime": {
     "end_time": "2020-07-15T02:10:58.833082Z",
     "start_time": "2020-07-15T02:10:58.829929Z"
    }
   },
   "outputs": [],
   "source": [
    "# __SOLUTION__\n",
    "def average_word_length(text):\n",
    "    split = text.split()\n",
    "    word_lengths = [len(x) for x in split]\n",
    "    average = sum(word_lengths)/len(split)\n",
    "    return average"
   ]
  },
  {
   "cell_type": "markdown",
   "metadata": {},
   "source": [
    "Now, we apply our function to every policy and add the output as column."
   ]
  },
  {
   "cell_type": "code",
   "execution_count": null,
   "metadata": {},
   "outputs": [],
   "source": [
    "df['average_word_length'] = df.policy.apply(average_word_length)"
   ]
  },
  {
   "cell_type": "code",
   "execution_count": 7,
   "metadata": {
    "ExecuteTime": {
     "end_time": "2020-07-15T02:11:00.462745Z",
     "start_time": "2020-07-15T02:11:00.435359Z"
    }
   },
   "outputs": [],
   "source": [
    "# __SOLUTION__\n",
    "df['average_word_length'] = df.policy.apply(average_word_length)"
   ]
  },
  {
   "cell_type": "markdown",
   "metadata": {},
   "source": [
    "Sweet let's take a look at the documents with the highest average word length."
   ]
  },
  {
   "cell_type": "code",
   "execution_count": null,
   "metadata": {},
   "outputs": [],
   "source": [
    "df.sort_values(by='average_word_length', ascending=False).head()"
   ]
  },
  {
   "cell_type": "code",
   "execution_count": 8,
   "metadata": {
    "ExecuteTime": {
     "end_time": "2020-07-15T02:11:01.853812Z",
     "start_time": "2020-07-15T02:11:01.843526Z"
    }
   },
   "outputs": [
    {
     "data": {
      "text/html": [
       "<div>\n",
       "<style scoped>\n",
       "    .dataframe tbody tr th:only-of-type {\n",
       "        vertical-align: middle;\n",
       "    }\n",
       "\n",
       "    .dataframe tbody tr th {\n",
       "        vertical-align: top;\n",
       "    }\n",
       "\n",
       "    .dataframe thead th {\n",
       "        text-align: right;\n",
       "    }\n",
       "</style>\n",
       "<table border=\"1\" class=\"dataframe\">\n",
       "  <thead>\n",
       "    <tr style=\"text-align: right;\">\n",
       "      <th></th>\n",
       "      <th>Unnamed: 0</th>\n",
       "      <th>name</th>\n",
       "      <th>policy</th>\n",
       "      <th>candidate</th>\n",
       "      <th>average_word_length</th>\n",
       "    </tr>\n",
       "  </thead>\n",
       "  <tbody>\n",
       "    <tr>\n",
       "      <th>69</th>\n",
       "      <td>69</td>\n",
       "      <td>Tackling the Climate Crisis Head On</td>\n",
       "      <td>climat plan clean air water clean energi corpo...</td>\n",
       "      <td>warren</td>\n",
       "      <td>6.137931</td>\n",
       "    </tr>\n",
       "    <tr>\n",
       "      <th>9</th>\n",
       "      <td>9</td>\n",
       "      <td>A Working Agenda for Black America</td>\n",
       "      <td>tabl content address matern mortal afford hous...</td>\n",
       "      <td>warren</td>\n",
       "      <td>6.040816</td>\n",
       "    </tr>\n",
       "    <tr>\n",
       "      <th>62</th>\n",
       "      <td>62</td>\n",
       "      <td>Restoring America’s Promise to Latinos</td>\n",
       "      <td>tabl content afford hous bankruptci child care...</td>\n",
       "      <td>warren</td>\n",
       "      <td>5.960000</td>\n",
       "    </tr>\n",
       "    <tr>\n",
       "      <th>30</th>\n",
       "      <td>30</td>\n",
       "      <td>Fighting Digital Disinformation</td>\n",
       "      <td>sinc 2016 elect investig congression hear acad...</td>\n",
       "      <td>warren</td>\n",
       "      <td>5.885246</td>\n",
       "    </tr>\n",
       "    <tr>\n",
       "      <th>95</th>\n",
       "      <td>95</td>\n",
       "      <td>Responsible Foreign Policy</td>\n",
       "      <td>key point detail us must lead world improv int...</td>\n",
       "      <td>sanders</td>\n",
       "      <td>5.876033</td>\n",
       "    </tr>\n",
       "  </tbody>\n",
       "</table>\n",
       "</div>"
      ],
      "text/plain": [
       "    Unnamed: 0                                    name  \\\n",
       "69          69     Tackling the Climate Crisis Head On   \n",
       "9            9      A Working Agenda for Black America   \n",
       "62          62  Restoring America’s Promise to Latinos   \n",
       "30          30         Fighting Digital Disinformation   \n",
       "95          95              Responsible Foreign Policy   \n",
       "\n",
       "                                               policy candidate  \\\n",
       "69  climat plan clean air water clean energi corpo...    warren   \n",
       "9   tabl content address matern mortal afford hous...    warren   \n",
       "62  tabl content afford hous bankruptci child care...    warren   \n",
       "30  sinc 2016 elect investig congression hear acad...    warren   \n",
       "95  key point detail us must lead world improv int...   sanders   \n",
       "\n",
       "    average_word_length  \n",
       "69             6.137931  \n",
       "9              6.040816  \n",
       "62             5.960000  \n",
       "30             5.885246  \n",
       "95             5.876033  "
      ]
     },
     "execution_count": 8,
     "metadata": {},
     "output_type": "execute_result"
    }
   ],
   "source": [
    "# __SOLUTION__\n",
    "df.sort_values(by='average_word_length', ascending=False).head()"
   ]
  },
  {
   "cell_type": "markdown",
   "metadata": {},
   "source": [
    "An average measurement can be a bit misleading. \n",
    "\n",
    "Let's also write a function that finds the word count for a given document.\n",
    "\n",
    "In the cell below, define a function called `word_count` that receives a single `text` parameter.\n",
    "\n",
    "<u><b>This function should:</b></u>\n",
    "1. Split the text data\n",
    "2. Return the length of the array."
   ]
  },
  {
   "cell_type": "code",
   "execution_count": null,
   "metadata": {},
   "outputs": [],
   "source": [
    "# Your code here\n",
    "def word_count(text):\n",
    "    pass"
   ]
  },
  {
   "cell_type": "code",
   "execution_count": 9,
   "metadata": {
    "ExecuteTime": {
     "end_time": "2020-07-15T02:11:03.862771Z",
     "start_time": "2020-07-15T02:11:03.860148Z"
    }
   },
   "outputs": [],
   "source": [
    "# __SOLUTION__\n",
    "def word_count(text):\n",
    "    split = text.split()\n",
    "    return len(split)"
   ]
  },
  {
   "cell_type": "markdown",
   "metadata": {},
   "source": [
    "Nice. Now we apply the function to our entire dataset, and save the output as a column"
   ]
  },
  {
   "cell_type": "code",
   "execution_count": null,
   "metadata": {},
   "outputs": [],
   "source": [
    "df['word_count'] = df.policy.apply(word_count)\n",
    "\n",
    "df.sort_values(by='average_word_length', ascending=False).head()"
   ]
  },
  {
   "cell_type": "code",
   "execution_count": 10,
   "metadata": {
    "ExecuteTime": {
     "end_time": "2020-07-15T02:11:05.551602Z",
     "start_time": "2020-07-15T02:11:05.527682Z"
    }
   },
   "outputs": [
    {
     "data": {
      "text/html": [
       "<div>\n",
       "<style scoped>\n",
       "    .dataframe tbody tr th:only-of-type {\n",
       "        vertical-align: middle;\n",
       "    }\n",
       "\n",
       "    .dataframe tbody tr th {\n",
       "        vertical-align: top;\n",
       "    }\n",
       "\n",
       "    .dataframe thead th {\n",
       "        text-align: right;\n",
       "    }\n",
       "</style>\n",
       "<table border=\"1\" class=\"dataframe\">\n",
       "  <thead>\n",
       "    <tr style=\"text-align: right;\">\n",
       "      <th></th>\n",
       "      <th>Unnamed: 0</th>\n",
       "      <th>name</th>\n",
       "      <th>policy</th>\n",
       "      <th>candidate</th>\n",
       "      <th>average_word_length</th>\n",
       "      <th>word_count</th>\n",
       "    </tr>\n",
       "  </thead>\n",
       "  <tbody>\n",
       "    <tr>\n",
       "      <th>69</th>\n",
       "      <td>69</td>\n",
       "      <td>Tackling the Climate Crisis Head On</td>\n",
       "      <td>climat plan clean air water clean energi corpo...</td>\n",
       "      <td>warren</td>\n",
       "      <td>6.137931</td>\n",
       "      <td>29</td>\n",
       "    </tr>\n",
       "    <tr>\n",
       "      <th>9</th>\n",
       "      <td>9</td>\n",
       "      <td>A Working Agenda for Black America</td>\n",
       "      <td>tabl content address matern mortal afford hous...</td>\n",
       "      <td>warren</td>\n",
       "      <td>6.040816</td>\n",
       "      <td>49</td>\n",
       "    </tr>\n",
       "    <tr>\n",
       "      <th>62</th>\n",
       "      <td>62</td>\n",
       "      <td>Restoring America’s Promise to Latinos</td>\n",
       "      <td>tabl content afford hous bankruptci child care...</td>\n",
       "      <td>warren</td>\n",
       "      <td>5.960000</td>\n",
       "      <td>50</td>\n",
       "    </tr>\n",
       "    <tr>\n",
       "      <th>30</th>\n",
       "      <td>30</td>\n",
       "      <td>Fighting Digital Disinformation</td>\n",
       "      <td>sinc 2016 elect investig congression hear acad...</td>\n",
       "      <td>warren</td>\n",
       "      <td>5.885246</td>\n",
       "      <td>1281</td>\n",
       "    </tr>\n",
       "    <tr>\n",
       "      <th>95</th>\n",
       "      <td>95</td>\n",
       "      <td>Responsible Foreign Policy</td>\n",
       "      <td>key point detail us must lead world improv int...</td>\n",
       "      <td>sanders</td>\n",
       "      <td>5.876033</td>\n",
       "      <td>121</td>\n",
       "    </tr>\n",
       "  </tbody>\n",
       "</table>\n",
       "</div>"
      ],
      "text/plain": [
       "    Unnamed: 0                                    name  \\\n",
       "69          69     Tackling the Climate Crisis Head On   \n",
       "9            9      A Working Agenda for Black America   \n",
       "62          62  Restoring America’s Promise to Latinos   \n",
       "30          30         Fighting Digital Disinformation   \n",
       "95          95              Responsible Foreign Policy   \n",
       "\n",
       "                                               policy candidate  \\\n",
       "69  climat plan clean air water clean energi corpo...    warren   \n",
       "9   tabl content address matern mortal afford hous...    warren   \n",
       "62  tabl content afford hous bankruptci child care...    warren   \n",
       "30  sinc 2016 elect investig congression hear acad...    warren   \n",
       "95  key point detail us must lead world improv int...   sanders   \n",
       "\n",
       "    average_word_length  word_count  \n",
       "69             6.137931          29  \n",
       "9              6.040816          49  \n",
       "62             5.960000          50  \n",
       "30             5.885246        1281  \n",
       "95             5.876033         121  "
      ]
     },
     "execution_count": 10,
     "metadata": {},
     "output_type": "execute_result"
    }
   ],
   "source": [
    "# __SOLUTION__\n",
    "df['word_count'] = df.policy.apply(word_count)\n",
    "\n",
    "df.sort_values(by='average_word_length', ascending=False).head()"
   ]
  },
  {
   "cell_type": "markdown",
   "metadata": {},
   "source": [
    "Interesting. Let's take a look at the distribution for the `word_count` column."
   ]
  },
  {
   "cell_type": "code",
   "execution_count": null,
   "metadata": {},
   "outputs": [],
   "source": [
    "warren_df = df[df.candidate=='warren']\n",
    "sanders_df = df[df.candidate=='sanders']\n",
    "\n",
    "plt.hist(warren_df.word_count, alpha=.6, label='Warren')\n",
    "plt.hist(sanders_df.word_count, alpha=.6, label='Sanders')\n",
    "plt.legend()\n",
    "plt.show()"
   ]
  },
  {
   "cell_type": "code",
   "execution_count": 11,
   "metadata": {
    "ExecuteTime": {
     "end_time": "2020-07-15T02:11:07.905982Z",
     "start_time": "2020-07-15T02:11:07.716382Z"
    }
   },
   "outputs": [
    {
     "data": {
      "image/png": "[encoded data removed]",
      "text/plain": [
       "<Figure size 432x288 with 1 Axes>"
      ]
     },
     "metadata": {
      "needs_background": "light"
     },
     "output_type": "display_data"
    }
   ],
   "source": [
    "# __SOLUTION__\n",
    "warren_df = df[df.candidate=='warren']\n",
    "sanders_df = df[df.candidate=='sanders']\n",
    "\n",
    "plt.hist(warren_df.word_count, alpha=.6, label='Warren')\n",
    "plt.hist(sanders_df.word_count, alpha=.6, label='Sanders')\n",
    "plt.legend()\n",
    "plt.show()"
   ]
  },
  {
   "cell_type": "markdown",
   "metadata": {},
   "source": [
    "It looks like the average length of a policy is about 1,000 words.\n",
    "\n",
    "Let's print the mean and median for the `word_count` column."
   ]
  },
  {
   "cell_type": "code",
   "execution_count": null,
   "metadata": {},
   "outputs": [],
   "source": [
    "print('Mean Word Count: ',df.word_count.mean())\n",
    "print('Median Word Count: ',df.word_count.median())"
   ]
  },
  {
   "cell_type": "code",
   "execution_count": 12,
   "metadata": {
    "ExecuteTime": {
     "end_time": "2020-07-15T02:11:10.092280Z",
     "start_time": "2020-07-15T02:11:10.088343Z"
    }
   },
   "outputs": [
    {
     "name": "stdout",
     "output_type": "stream",
     "text": [
      "Mean Word Count:  1625.697247706422\n",
      "Median Word Count:  1098.0\n"
     ]
    }
   ],
   "source": [
    "# __SOLUTION__\n",
    "print('Mean Word Count: ',df.word_count.mean())\n",
    "print('Median Word Count: ',df.word_count.median())"
   ]
  },
  {
   "cell_type": "markdown",
   "metadata": {},
   "source": [
    "*There are some outliers in this data in a full data science project would need to be explored.*"
   ]
  },
  {
   "cell_type": "markdown",
   "metadata": {},
   "source": [
    "**Ok, final thing!**\n",
    "\n",
    "Let's find out what the most frequent words are for each candidate.\n",
    "\n",
    "First, we use list comprehension to create a list of token-lists."
   ]
  },
  {
   "cell_type": "code",
   "execution_count": null,
   "metadata": {},
   "outputs": [],
   "source": [
    "token_warren= [word_tokenize(policy) for policy in warren_df.policy] "
   ]
  },
  {
   "cell_type": "code",
   "execution_count": 13,
   "metadata": {
    "ExecuteTime": {
     "end_time": "2020-07-15T02:11:12.668213Z",
     "start_time": "2020-07-15T02:11:12.308303Z"
    }
   },
   "outputs": [],
   "source": [
    "# __SOLUTION__\n",
    "token_warren= [word_tokenize(policy) for policy in warren_df.policy] "
   ]
  },
  {
   "cell_type": "markdown",
   "metadata": {},
   "source": [
    "Next, we want to create a bag of words. AKA a single list containing every token."
   ]
  },
  {
   "cell_type": "code",
   "execution_count": null,
   "metadata": {
    "ExecuteTime": {
     "end_time": "2020-07-15T02:02:40.284467Z",
     "start_time": "2020-07-15T02:02:40.262652Z"
    }
   },
   "outputs": [],
   "source": [
    "warren_bow = []\n",
    "for doc in token_warren:\n",
    "    warren_bow.extend([word.lower() for word in doc])"
   ]
  },
  {
   "cell_type": "code",
   "execution_count": 14,
   "metadata": {
    "ExecuteTime": {
     "end_time": "2020-07-15T02:11:14.697790Z",
     "start_time": "2020-07-15T02:11:14.674711Z"
    }
   },
   "outputs": [],
   "source": [
    "# __SOLUTION__\n",
    "warren_bow = []\n",
    "for doc in token_warren:\n",
    "    warren_bow.extend([word.lower() for word in doc])"
   ]
  },
  {
   "cell_type": "markdown",
   "metadata": {},
   "source": [
    "Now, we use the `FreqDist` object to find the 10 most frequent words."
   ]
  },
  {
   "cell_type": "code",
   "execution_count": null,
   "metadata": {},
   "outputs": [],
   "source": [
    "fd_warren = FreqDist(warren_bow)\n",
    "print(fd_warren.most_common(10))"
   ]
  },
  {
   "cell_type": "code",
   "execution_count": 15,
   "metadata": {
    "ExecuteTime": {
     "end_time": "2020-07-15T02:11:16.373515Z",
     "start_time": "2020-07-15T02:11:16.290888Z"
    }
   },
   "outputs": [
    {
     "name": "stdout",
     "output_type": "stream",
     "text": [
      "[('feder', 865), ('plan', 716), ('make', 706), ('peopl', 704), ('american', 701), ('health', 653), ('govern', 636), ('also', 630), ('care', 629), ('commun', 611)]\n"
     ]
    }
   ],
   "source": [
    "# __SOLUTION__\n",
    "fd_warren = FreqDist(warren_bow)\n",
    "print(fd_warren.most_common(10))"
   ]
  },
  {
   "cell_type": "markdown",
   "metadata": {},
   "source": [
    "Are there any words here that should be added to our list of stopwords?"
   ]
  },
  {
   "cell_type": "markdown",
   "metadata": {},
   "source": [
    "*In the cell below* define a function called `word_frequency` that receives a series of documents, and outputs a fitted FreqDist object.\n",
    "\n",
    "<u><b>This function should be</b></u> a generalized version of the code we just wrote, only instead of printing out the most frequent words, the function should return the `fd` object."
   ]
  },
  {
   "cell_type": "code",
   "execution_count": null,
   "metadata": {},
   "outputs": [],
   "source": [
    "# Your code here\n",
    "def word_frequency(documents):\n",
    "    pass"
   ]
  },
  {
   "cell_type": "code",
   "execution_count": 16,
   "metadata": {
    "ExecuteTime": {
     "end_time": "2020-07-15T02:11:18.498605Z",
     "start_time": "2020-07-15T02:11:18.494877Z"
    }
   },
   "outputs": [],
   "source": [
    "# __SOLUTION__\n",
    "def word_frequency(documents):\n",
    "    tokens = [word_tokenize(document) for document in documents]\n",
    "    bow = []\n",
    "    for doc in tokens:\n",
    "        bow.extend([word.lower() for word in doc])\n",
    "    \n",
    "    fd = FreqDist(bow)\n",
    "    return fd"
   ]
  },
  {
   "cell_type": "markdown",
   "metadata": {},
   "source": [
    "Now, we can feed all of sanders policies into our `word_frequency` functions and receive a fitted `FreqDist` object"
   ]
  },
  {
   "cell_type": "code",
   "execution_count": null,
   "metadata": {},
   "outputs": [],
   "source": [
    "fd_sanders = word_frequency(sanders_df.policy)\n",
    "fd_sanders.most_common(10)"
   ]
  },
  {
   "cell_type": "code",
   "execution_count": 17,
   "metadata": {
    "ExecuteTime": {
     "end_time": "2020-07-15T02:11:23.470907Z",
     "start_time": "2020-07-15T02:11:23.284118Z"
    }
   },
   "outputs": [
    {
     "data": {
      "text/plain": [
       "[('peopl', 433),\n",
       " ('ensur', 410),\n",
       " ('disabl', 400),\n",
       " ('berni', 357),\n",
       " ('commun', 354),\n",
       " ('provid', 343),\n",
       " ('care', 338),\n",
       " ('fund', 331),\n",
       " ('program', 312),\n",
       " ('worker', 292)]"
      ]
     },
     "execution_count": 17,
     "metadata": {},
     "output_type": "execute_result"
    }
   ],
   "source": [
    "# __SOLUTION__\n",
    "fd_sanders = word_frequency(sanders_df.policy)\n",
    "fd_sanders.most_common(10)"
   ]
  },
  {
   "cell_type": "markdown",
   "metadata": {},
   "source": [
    "`FreqDist` objects come with a handy `.plot` method :)"
   ]
  },
  {
   "cell_type": "code",
   "execution_count": null,
   "metadata": {
    "ExecuteTime": {
     "end_time": "2020-07-15T01:53:50.258743Z",
     "start_time": "2020-07-15T01:53:50.102070Z"
    }
   },
   "outputs": [],
   "source": [
    "fd_sanders.plot(10);"
   ]
  },
  {
   "cell_type": "code",
   "execution_count": 18,
   "metadata": {
    "ExecuteTime": {
     "end_time": "2020-07-15T02:11:25.240080Z",
     "start_time": "2020-07-15T02:11:25.083039Z"
    }
   },
   "outputs": [
    {
     "data": {
      "image/png": "[encoded data removed]",
      "text/plain": [
       "<Figure size 432x288 with 1 Axes>"
      ]
     },
     "metadata": {
      "needs_background": "light"
     },
     "output_type": "display_data"
    }
   ],
   "source": [
    "# __SOLUTION__\n",
    "fd_sanders.plot(10);"
   ]
  },
  {
   "cell_type": "code",
   "execution_count": null,
   "metadata": {},
   "outputs": [],
   "source": []
  }
 ],
 "metadata": {
  "hide_input": false,
  "kernelspec": {
   "display_name": "Python 3",
   "language": "python",
   "name": "python3"
  },
  "language_info": {
   "codemirror_mode": {
    "name": "ipython",
    "version": 3
   },
   "file_extension": ".py",
   "mimetype": "text/x-python",
   "name": "python",
   "nbconvert_exporter": "python",
   "pygments_lexer": "ipython3",
   "version": "3.7.6"
  },
  "toc": {
   "base_numbering": 1,
   "nav_menu": {},
   "number_sections": true,
   "sideBar": true,
   "skip_h1_title": false,
   "title_cell": "Table of Contents",
   "title_sidebar": "Contents",
   "toc_cell": false,
   "toc_position": {},
   "toc_section_display": true,
   "toc_window_display": false
  },
  "varInspector": {
   "cols": {
    "lenName": 16,
    "lenType": 16,
    "lenVar": 40
   },
   "kernels_config": {
    "python": {
     "delete_cmd_postfix": "",
     "delete_cmd_prefix": "del ",
     "library": "var_list.py",
     "varRefreshCmd": "print(var_dic_list())"
    },
    "r": {
     "delete_cmd_postfix": ") ",
     "delete_cmd_prefix": "rm(",
     "library": "var_list.r",
     "varRefreshCmd": "cat(var_dic_list()) "
    }
   },
   "types_to_exclude": [
    "module",
    "function",
    "builtin_function_or_method",
    "instance",
    "_Feature"
   ],
   "window_display": false
  }
 },
 "nbformat": 4,
 "nbformat_minor": 4
}
